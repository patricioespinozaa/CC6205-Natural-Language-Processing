{
  "metadata": {
    "colab": {
      "provenance": [],
      "toc_visible": true,
      "gpuType": "T4"
    },
    "kernelspec": {
      "name": "python3",
      "display_name": "Python 3"
    },
    "language_info": {
      "name": "python",
      "version": "3.10.13",
      "mimetype": "text/x-python",
      "codemirror_mode": {
        "name": "ipython",
        "version": 3
      },
      "pygments_lexer": "ipython3",
      "nbconvert_exporter": "python",
      "file_extension": ".py"
    },
    "kaggle": {
      "accelerator": "nvidiaTeslaT4",
      "dataSources": [],
      "dockerImageVersionId": 30733,
      "isInternetEnabled": true,
      "language": "python",
      "sourceType": "notebook",
      "isGpuEnabled": true
    },
    "accelerator": "GPU"
  },
  "nbformat_minor": 0,
  "nbformat": 4,
  "cells": [
    {
      "cell_type": "markdown",
      "source": [
        "# **Tarea 4 - Sequence to Sequence 📚**\n",
        "\n",
        "**Procesamiento de Lenguaje Natural (CC6205-1 - Otoño 2024)**"
      ],
      "metadata": {
        "id": "dYExzNuwx-Ke"
      }
    },
    {
      "cell_type": "markdown",
      "source": [
        "## Tarjeta de identificación\n",
        "\n",
        "**Nombres:** Matías Rivera, Vicente Thiele, Patricio Espinoza\n",
        "\n",
        "**Fecha límite de entrega 📆:** 10/07.\n",
        "\n",
        "**Tiempo estimado de dedicación:** 4 horas\n"
      ],
      "metadata": {
        "id": "b97b4IJjZGxM"
      }
    },
    {
      "cell_type": "markdown",
      "source": [
        "## Instrucciones\n",
        "\n",
        "Bienvenid@s a la tercera tarea en el curso de Natural Language Processing (NLP). Esta tarea tiene como objetivo evaluar los contenidos teóricos de las últimas semanas de clases posteriores a la Tarea 3, enfocado en **Sequence-to-Sequence + Attention**. Si aún no has visto las clases, se recomienda visitar los links de las referencias.\n",
        "\n",
        "* La tarea es en **grupo** (maximo hasta 3 personas).\n",
        "* La entrega es a través de u-cursos a más tardar el día estipulado arriba.\n",
        "* El formato de entrega es este mismo Jupyter Notebook.\n",
        "* Al momento de la revisión su código será ejecutado. Por favor verifiquen que su entrega no tenga errores de compilación.\n",
        "* Completar la tarjeta de identificación. Sin ella no podrá tener nota.\n",
        "* Recomendamos mirar el enunciado completo con atención (*ba dum tss*) antes de empezar la tarea, para tener una idea más completa de lo que se pide."
      ],
      "metadata": {
        "ExecuteTime": {
          "end_time": "2020-03-19T18:30:18.109327Z",
          "start_time": "2020-03-19T18:30:18.103344Z"
        },
        "id": "q5CSRY4oNCHK"
      }
    },
    {
      "cell_type": "markdown",
      "source": [
        "## Material de referencia\n",
        "\n",
        "Diapositivas del curso 📄\n",
        "    \n",
        "- [Sequence-to-Sequence + Attention](https://github.com/dccuchile/CC6205/blob/master/slides/NLP-seq2seq.pdf)\n",
        "- [Transformer](https://github.com/dccuchile/CC6205/blob/master/slides/NLP-transformer.pdf)\n",
        "\n",
        "Videos del curso 📺\n",
        "\n",
        "- [Sequence-to-Sequence + Attention](https://www.youtube.com/watch?v=OpKxRjISqmM&list=PLppKo85eGXiXIh54H_qz48yHPHeNVJqBi&index=35)\n",
        "- [Transformer](https://www.youtube.com/watch?v=8RE23Uq8rU0)"
      ],
      "metadata": {
        "id": "YaHHjI_sp42f"
      }
    },
    {
      "cell_type": "markdown",
      "source": [
        "## Parte 1: Traducción automática con arquitectura Encoder-Decoder con RNNs\n",
        "En esta sección crearemos nuestro propio traductor de español a inglés con la arquitecura Encoder-Decoder con RNNs + Attention vista en clases."
      ],
      "metadata": {
        "id": "I_fPuDVxmmWI"
      }
    },
    {
      "cell_type": "code",
      "source": [
        "## Importamos librerías\n",
        "\n",
        "from __future__ import unicode_literals, print_function, division\n",
        "from io import open\n",
        "import unicodedata\n",
        "import re\n",
        "import random\n",
        "\n",
        "import torch\n",
        "import torch.nn as nn\n",
        "from torch import optim\n",
        "import torch.nn.functional as F\n",
        "\n",
        "import numpy as np\n",
        "from torch.utils.data import TensorDataset, DataLoader, RandomSampler"
      ],
      "metadata": {
        "id": "H3k3VV6_2vg2",
        "execution": {
          "iopub.status.busy": "2024-06-25T23:16:44.849193Z",
          "iopub.execute_input": "2024-06-25T23:16:44.849639Z",
          "iopub.status.idle": "2024-06-25T23:16:44.855614Z",
          "shell.execute_reply.started": "2024-06-25T23:16:44.849607Z",
          "shell.execute_reply": "2024-06-25T23:16:44.854597Z"
        },
        "trusted": true
      },
      "execution_count": 245,
      "outputs": []
    },
    {
      "cell_type": "markdown",
      "source": [
        "### P0. Preparación del dataset y tokenización\n",
        "\n",
        "Utilizaremos un dataset de pares de oraciones en inglés y castellano."
      ],
      "metadata": {
        "id": "XPhb8wuSpBZG"
      }
    },
    {
      "cell_type": "code",
      "source": [
        "!wget https://www.manythings.org/anki/spa-eng.zip\n",
        "!unzip spa-eng.zip"
      ],
      "metadata": {
        "id": "3K5AmGn-ngUe",
        "execution": {
          "iopub.status.busy": "2024-06-25T23:16:44.857403Z",
          "iopub.execute_input": "2024-06-25T23:16:44.857781Z",
          "iopub.status.idle": "2024-06-25T23:17:04.935237Z",
          "shell.execute_reply.started": "2024-06-25T23:16:44.857753Z",
          "shell.execute_reply": "2024-06-25T23:17:04.934269Z"
        },
        "trusted": true,
        "colab": {
          "base_uri": "https://localhost:8080/"
        },
        "outputId": "c5233606-6524-4a04-dc8b-fdd7d6f8302d"
      },
      "execution_count": 246,
      "outputs": [
        {
          "output_type": "stream",
          "name": "stdout",
          "text": [
            "--2024-07-10 01:33:59--  https://www.manythings.org/anki/spa-eng.zip\n",
            "Resolving www.manythings.org (www.manythings.org)... 173.254.30.110\n",
            "Connecting to www.manythings.org (www.manythings.org)|173.254.30.110|:443... connected.\n",
            "HTTP request sent, awaiting response... 200 OK\n",
            "Length: 5420295 (5.2M) [application/zip]\n",
            "Saving to: ‘spa-eng.zip.4’\n",
            "\n",
            "spa-eng.zip.4       100%[===================>]   5.17M  2.81MB/s    in 1.8s    \n",
            "\n",
            "2024-07-10 01:34:02 (2.81 MB/s) - ‘spa-eng.zip.4’ saved [5420295/5420295]\n",
            "\n",
            "Archive:  spa-eng.zip\n",
            "replace _about.txt? [y]es, [n]o, [A]ll, [N]one, [r]ename: "
          ]
        }
      ]
    },
    {
      "cell_type": "markdown",
      "source": [
        "Vamos a crear una clase que nos permita procesar mejor cada idioma del corpus. Esto nos será útil para manejar dos vocabularios distintos."
      ],
      "metadata": {
        "id": "SF8vWprw20KA"
      }
    },
    {
      "cell_type": "code",
      "source": [
        "# Código base\n",
        "\n",
        "SOS_token = 0\n",
        "EOS_token = 1\n",
        "\n",
        "class Lang:\n",
        "  def __init__(self, name):\n",
        "    self.name = name\n",
        "    self.word2index = {}\n",
        "    self.word2count = {}\n",
        "    self.index2word = {0: \"*\", 1: \"STOP\"}\n",
        "    self.n_tokens = 2  # * y STOP\n",
        "\n",
        "  def add_sentence(self, sentence):\n",
        "    for word in sentence.split(' '):\n",
        "      self.add_word(word)\n",
        "\n",
        "  def add_word(self, word):\n",
        "    if word not in self.word2index:\n",
        "      self.word2index[word] = self.n_tokens\n",
        "      self.word2count[word] = 1\n",
        "      self.index2word[self.n_tokens] = word\n",
        "      self.n_tokens += 1\n",
        "    else:\n",
        "      self.word2count[word] += 1"
      ],
      "metadata": {
        "id": "R4KvLII6Wd9y",
        "execution": {
          "iopub.status.busy": "2024-06-25T23:17:04.936847Z",
          "iopub.execute_input": "2024-06-25T23:17:04.937231Z",
          "iopub.status.idle": "2024-06-25T23:17:04.945754Z",
          "shell.execute_reply.started": "2024-06-25T23:17:04.937194Z",
          "shell.execute_reply": "2024-06-25T23:17:04.944901Z"
        },
        "trusted": true
      },
      "execution_count": 247,
      "outputs": []
    },
    {
      "cell_type": "markdown",
      "source": [
        "Implemente acá funciones para leer, procesar y filtar el dataset según estime."
      ],
      "metadata": {
        "id": "p4PoWqCai607"
      }
    },
    {
      "cell_type": "code",
      "source": [
        "# Minúsculas, puntuación y remoción de caracteres que no son letras\n",
        "# Puede añadir cualquier otro preprocesamiento que estime conveniente\n",
        "def normalize_string(s):\n",
        "  s = unicodedata.normalize('NFC', s) # Normalización de caracteres unicode\n",
        "  s = s.lower().strip()\n",
        "  s = re.sub(r\"([.!?])\", r\" \\1\", s) # Regex para separar puntuación de las palabras\n",
        "  s = re.sub(r\"[^a-zA-Z!?áéíóúñ´]+\", r\" \", s) # Regex para excluir otros caracteres\n",
        "  return s.strip()\n",
        "\n",
        "# Recomendamos mantener sólo oraciones con ~10 palabras o menos\n",
        "def filter_pairs(pairs, max_length):\n",
        "  return [p for p in pairs if len(p[0].split(' ')) < max_length and \\\n",
        "                len(p[1].split(' ')) < max_length]"
      ],
      "metadata": {
        "id": "XQ0zURfK2f0B",
        "execution": {
          "iopub.status.busy": "2024-06-25T23:17:04.948608Z",
          "iopub.execute_input": "2024-06-25T23:17:04.949339Z",
          "iopub.status.idle": "2024-06-25T23:17:04.958210Z",
          "shell.execute_reply.started": "2024-06-25T23:17:04.949209Z",
          "shell.execute_reply": "2024-06-25T23:17:04.957453Z"
        },
        "trusted": true
      },
      "execution_count": 248,
      "outputs": []
    },
    {
      "cell_type": "code",
      "source": [
        "def read_dataset(path, reverse=False):\n",
        "  lines = open(path, encoding='utf-8').\\\n",
        "    read().strip().split('\\n')\n",
        "\n",
        "  pairs = [[normalize_string(s) for s in l.split('\\t')][:2] for l in lines]\n",
        "\n",
        "  # Reverse pairs, make Lang instances\n",
        "  if reverse:\n",
        "    pairs = [list(reversed(p)) for p in pairs]\n",
        "    input_lang = Lang(\"spa\")\n",
        "    output_lang = Lang(\"eng\")\n",
        "  else:\n",
        "    input_lang = Lang(\"eng\")\n",
        "    output_lang = Lang(\"spa\")\n",
        "\n",
        "  return input_lang, output_lang, pairs\n",
        "\n",
        "def read_langs(lang1, lang2, reverse=False, max_length=10):\n",
        "  input_lang, output_lang, pairs = read_dataset(\"spa.txt\", reverse)\n",
        "  print(f\"Total de oraciones en dataset: {len(pairs)}\")\n",
        "  pairs = filter_pairs(pairs, max_length)\n",
        "  print(f\"Reducido a: {len(pairs)}\")\n",
        "  for pair in pairs:\n",
        "    input_lang.add_sentence(pair[0])\n",
        "    output_lang.add_sentence(pair[1])\n",
        "  print(f\"Tamaño vocab {input_lang.name}: {input_lang.n_tokens}\")\n",
        "  print(f\"Tamaño vocab {output_lang.name}: {output_lang.n_tokens}\")\n",
        "  return input_lang, output_lang, pairs"
      ],
      "metadata": {
        "id": "1zmvmX-WWd90",
        "execution": {
          "iopub.status.busy": "2024-06-25T23:17:04.959311Z",
          "iopub.execute_input": "2024-06-25T23:17:04.959672Z",
          "iopub.status.idle": "2024-06-25T23:17:04.972434Z",
          "shell.execute_reply.started": "2024-06-25T23:17:04.959641Z",
          "shell.execute_reply": "2024-06-25T23:17:04.971672Z"
        },
        "trusted": true
      },
      "execution_count": 249,
      "outputs": []
    },
    {
      "cell_type": "code",
      "source": [
        "input_lang, output_lang, pairs = read_langs('eng', 'spa', reverse=True, max_length=10)\n",
        "print(random.choice(pairs))"
      ],
      "metadata": {
        "colab": {
          "base_uri": "https://localhost:8080/"
        },
        "id": "FOAzpKMMVYur",
        "outputId": "4116a79b-87e3-4539-bc7b-7dacf0c6eca2"
      },
      "execution_count": 250,
      "outputs": [
        {
          "output_type": "stream",
          "name": "stdout",
          "text": [
            "Total de oraciones en dataset: 141543\n",
            "Reducido a: 119626\n",
            "Tamaño vocab spa: 24306\n",
            "Tamaño vocab eng: 12105\n",
            "['él es tres años mayor que ella', 'he s three years older than her']\n"
          ]
        }
      ]
    },
    {
      "cell_type": "markdown",
      "source": [
        "### P1. Encoder (1.2 pt.)\n",
        "Implemente una red Encoder utilizando redes neuronales recurrentes."
      ],
      "metadata": {
        "id": "2D1Kaw_D8jmN"
      }
    },
    {
      "cell_type": "code",
      "source": [
        "# Garantizar reproducibilidad de los experimentos\n",
        "SEED = 1234\n",
        "torch.manual_seed(SEED)\n",
        "torch.backends.cudnn.deterministic = True"
      ],
      "metadata": {
        "id": "l54mxzLLiYQ1"
      },
      "execution_count": 251,
      "outputs": []
    },
    {
      "cell_type": "code",
      "source": [
        "# Código base, puede cambiar los parámetros acorde a su implementación\n",
        "\n",
        "class EncoderRNN(nn.Module):\n",
        "    def __init__(self, input_size, hidden_size, dropout_p=0.1):\n",
        "        super(EncoderRNN, self).__init__()\n",
        "        self.hidden_size = hidden_size\n",
        "\n",
        "        self.embedding = nn.Embedding(input_size, hidden_size)\n",
        "        self.gru = nn.GRU(hidden_size, hidden_size, batch_first=True)\n",
        "        self.dropout = nn.Dropout(dropout_p)\n",
        "\n",
        "    def forward(self, input):\n",
        "        embedded = self.dropout(self.embedding(input))\n",
        "        output, hidden = self.gru(embedded)\n",
        "        return output, hidden"
      ],
      "metadata": {
        "id": "A4xqULn18kwL",
        "execution": {
          "iopub.status.busy": "2024-06-25T23:17:12.539222Z",
          "iopub.execute_input": "2024-06-25T23:17:12.539489Z",
          "iopub.status.idle": "2024-06-25T23:17:12.546213Z",
          "shell.execute_reply.started": "2024-06-25T23:17:12.539465Z",
          "shell.execute_reply": "2024-06-25T23:17:12.545343Z"
        },
        "trusted": true
      },
      "execution_count": 252,
      "outputs": []
    },
    {
      "cell_type": "markdown",
      "source": [
        "### P2. Attention Decoder (1.8 pt.)\n",
        "\n",
        "Ahora diseñe un mecanismo de atención según estime conveniente y otra red que servirá de decoder con el modelo de attention. Utilice la predicción objetivo (en caso de existir) como siguiente input de cada oración para la etapa de entrenamiento (teacher forcing)."
      ],
      "metadata": {
        "id": "dca-ULd28vUW"
      }
    },
    {
      "cell_type": "code",
      "source": [
        "# Código base, puede cambiar los parámetros acorde a su implementación\n",
        "MAX_LENGTH = 10\n",
        "\n",
        "class MyAttention(nn.Module):\n",
        "  def __init__(self, hidden_size):\n",
        "    super(MyAttention, self).__init__()\n",
        "    self.Wa = nn.Linear(hidden_size, hidden_size)\n",
        "    self.Ua = nn.Linear(hidden_size, hidden_size)\n",
        "    self.Va = nn.Linear(hidden_size, 1)\n",
        "\n",
        "  def forward(self, query, keys):\n",
        "    scores = self.Va(torch.tanh(self.Wa(query) + self.Ua(keys)))\n",
        "    scores = scores.squeeze(2).unsqueeze(1)\n",
        "\n",
        "    weights = F.softmax(scores, dim=-1)\n",
        "    context = torch.bmm(weights, keys)\n",
        "\n",
        "    return context, weights\n",
        "\n",
        "class DecoderRNN(nn.Module):\n",
        "  def __init__(self, hidden_size, output_size, dropout_p=0.1):\n",
        "    super(DecoderRNN, self).__init__()\n",
        "    self.embedding = nn.Embedding(output_size, hidden_size)\n",
        "    self.attention = MyAttention(hidden_size)\n",
        "    self.gru = nn.GRU(2 * hidden_size, hidden_size, batch_first=True)\n",
        "    self.out = nn.Linear(hidden_size, output_size)\n",
        "    self.dropout = nn.Dropout(dropout_p)\n",
        "\n",
        "  def forward(self, encoder_outputs, encoder_hidden, target_tensor=None):\n",
        "    batch_size = encoder_outputs.size(0)\n",
        "    decoder_input = torch.empty(batch_size, 1, dtype=torch.long, device=device).fill_(SOS_token)\n",
        "    decoder_hidden = encoder_hidden\n",
        "    decoder_outputs = []\n",
        "    attentions = []\n",
        "\n",
        "    for i in range(MAX_LENGTH):\n",
        "      decoder_output, decoder_hidden, attn_weights = self.forward_step(\n",
        "          decoder_input, decoder_hidden, encoder_outputs\n",
        "      )\n",
        "      decoder_outputs.append(decoder_output)\n",
        "      attentions.append(attn_weights)\n",
        "\n",
        "      if target_tensor is not None:\n",
        "        # Teacher forcing: Feed the target as the next input\n",
        "        decoder_input = target_tensor[:, i].unsqueeze(1) # Teacher forcing\n",
        "      else:\n",
        "         # Without teacher forcing: use its own predictions as the next input\n",
        "         _, topi = decoder_output.topk(1)\n",
        "         decoder_input = topi.squeeze(-1).detach()  # detach from history as input\n",
        "\n",
        "    decoder_outputs = torch.cat(decoder_outputs, dim=1)\n",
        "    decoder_outputs = F.log_softmax(decoder_outputs, dim=-1)\n",
        "    attentions = torch.cat(attentions, dim=1)\n",
        "\n",
        "    return decoder_outputs, decoder_hidden, attentions\n",
        "\n",
        "  def forward_step(self, input, hidden, encoder_outputs):\n",
        "    embedded =  self.dropout(self.embedding(input))\n",
        "\n",
        "    query = hidden.permute(1, 0, 2)\n",
        "    context, attn_weights = self.attention(query, encoder_outputs)\n",
        "    input_gru = torch.cat((embedded, context), dim=2)\n",
        "\n",
        "    output, hidden = self.gru(input_gru, hidden)\n",
        "    output = self.out(output)\n",
        "\n",
        "    return output, hidden, attn_weights"
      ],
      "metadata": {
        "id": "JwGdoUhq80Bk",
        "execution": {
          "iopub.status.busy": "2024-06-25T23:17:12.630657Z",
          "iopub.execute_input": "2024-06-25T23:17:12.630941Z",
          "iopub.status.idle": "2024-06-25T23:17:12.646388Z",
          "shell.execute_reply.started": "2024-06-25T23:17:12.630917Z",
          "shell.execute_reply": "2024-06-25T23:17:12.645446Z"
        },
        "trusted": true
      },
      "execution_count": 253,
      "outputs": []
    },
    {
      "cell_type": "markdown",
      "source": [
        "### P3. Entrenamiento y evaluación (1 pt.)\n",
        "Entrene su modelo Sequence-to-Sequence. Para esto entrene el encoder, decoder y attention en conjunto, es decir utilizando la misma función de loss para los parámetros de cada componente. Recuerde entregar las predicciones objetivo al decoder en cada iteración."
      ],
      "metadata": {
        "id": "X7H51frJe7de"
      }
    },
    {
      "cell_type": "code",
      "source": [
        "import math\n",
        "import time\n",
        "import matplotlib.pyplot as plt\n",
        "import matplotlib.ticker as ticker\n",
        "import numpy as np"
      ],
      "metadata": {
        "id": "nl-0Krjz9cmC",
        "execution": {
          "iopub.status.busy": "2024-06-25T23:17:12.720970Z",
          "iopub.execute_input": "2024-06-25T23:17:12.721357Z",
          "iopub.status.idle": "2024-06-25T23:17:12.737240Z",
          "shell.execute_reply.started": "2024-06-25T23:17:12.721332Z",
          "shell.execute_reply": "2024-06-25T23:17:12.736265Z"
        },
        "trusted": true
      },
      "execution_count": 254,
      "outputs": []
    },
    {
      "cell_type": "code",
      "source": [
        "# Funciones auxiliares para cargar datos de entrenamiento\n",
        "\n",
        "def sentence2indexes(lang, sentence):\n",
        "  return [lang.word2index[word] for word in sentence.split(' ')]\n",
        "\n",
        "def sentence2tensor(lang, sentence):\n",
        "  indexes = sentence2indexes(lang, sentence)\n",
        "  indexes.append(EOS_token)\n",
        "  return torch.tensor(indexes, dtype=torch.long, device=device).view(1, -1)\n",
        "\n",
        "def pair2tensors(pair):\n",
        "  input_tensor = sentence2tensor(input_lang, pair[0])\n",
        "  target_tensor = sentence2tensor(output_lang, pair[1])\n",
        "  return (input_tensor, target_tensor)\n",
        "\n",
        "def get_dataloader(batch_size):\n",
        "    input_lang, output_lang, pairs = read_langs('eng', 'spa', True)\n",
        "\n",
        "    n = len(pairs)\n",
        "    input_ids = np.zeros((n, MAX_LENGTH), dtype=np.int32)\n",
        "    target_ids = np.zeros((n, MAX_LENGTH), dtype=np.int32)\n",
        "\n",
        "    for idx, (inp, tgt) in enumerate(pairs):\n",
        "        inp_ids = sentence2indexes(input_lang, inp)\n",
        "        tgt_ids = sentence2indexes(output_lang, tgt)\n",
        "        inp_ids.append(EOS_token)\n",
        "        tgt_ids.append(EOS_token)\n",
        "        input_ids[idx, :len(inp_ids)] = inp_ids\n",
        "        target_ids[idx, :len(tgt_ids)] = tgt_ids\n",
        "\n",
        "    train_data = TensorDataset(torch.LongTensor(input_ids).to(device),\n",
        "                               torch.LongTensor(target_ids).to(device))\n",
        "\n",
        "    train_sampler = RandomSampler(train_data)\n",
        "    train_dataloader = DataLoader(train_data, sampler=train_sampler, batch_size=batch_size)\n",
        "    return input_lang, output_lang, train_dataloader"
      ],
      "metadata": {
        "id": "l6-aNCNtUzcI"
      },
      "execution_count": 255,
      "outputs": []
    },
    {
      "cell_type": "code",
      "source": [
        "device = torch.device(\"cuda\" if torch.cuda.is_available() else \"cpu\")"
      ],
      "metadata": {
        "id": "J4jjEMIU_kbi",
        "execution": {
          "iopub.status.busy": "2024-06-25T23:17:12.562622Z",
          "iopub.execute_input": "2024-06-25T23:17:12.562903Z",
          "iopub.status.idle": "2024-06-25T23:17:12.627276Z",
          "shell.execute_reply.started": "2024-06-25T23:17:12.562881Z",
          "shell.execute_reply": "2024-06-25T23:17:12.626360Z"
        },
        "trusted": true
      },
      "execution_count": 256,
      "outputs": []
    },
    {
      "cell_type": "code",
      "source": [
        "import matplotlib.pyplot as plt\n",
        "plt.switch_backend('agg')\n",
        "import matplotlib.ticker as ticker\n",
        "import numpy as np\n",
        "\n",
        "import time\n",
        "import math\n",
        "\n",
        "def asMinutes(s):\n",
        "    m = math.floor(s / 60)\n",
        "    s -= m * 60\n",
        "    return '%dm %ds' % (m, s)\n",
        "\n",
        "def timeSince(since, percent):\n",
        "    now = time.time()\n",
        "    s = now - since\n",
        "    es = s / (percent)\n",
        "    rs = es - s\n",
        "    return '%s (- %s)' % (asMinutes(s), asMinutes(rs))\n",
        "\n",
        "def train_epoch(dataloader, encoder, decoder, encoder_optimizer,\n",
        "          decoder_optimizer, criterion):\n",
        "\n",
        "    total_loss = 0\n",
        "    for data in dataloader:\n",
        "        input_tensor, target_tensor = data\n",
        "\n",
        "        encoder_optimizer.zero_grad()\n",
        "        decoder_optimizer.zero_grad()\n",
        "\n",
        "        encoder_outputs, encoder_hidden = encoder(input_tensor)\n",
        "        decoder_outputs, _, _ = decoder(encoder_outputs, encoder_hidden, target_tensor)\n",
        "\n",
        "        loss = criterion(\n",
        "            decoder_outputs.view(-1, decoder_outputs.size(-1)),\n",
        "            target_tensor.view(-1)\n",
        "        )\n",
        "        loss.backward()\n",
        "\n",
        "        encoder_optimizer.step()\n",
        "        decoder_optimizer.step()\n",
        "\n",
        "        total_loss += loss.item()\n",
        "\n",
        "    return total_loss / len(dataloader)\n",
        "\n",
        "def train(train_dataloader, encoder, decoder, n_epochs, learning_rate=0.001,\n",
        "               print_every=100):\n",
        "    start = time.time()\n",
        "    plot_losses = []\n",
        "    print_loss_total = 0  # Reset every print_every\n",
        "\n",
        "    encoder_optimizer = optim.Adam(encoder.parameters(), lr=learning_rate)\n",
        "    decoder_optimizer = optim.Adam(decoder.parameters(), lr=learning_rate)\n",
        "    criterion = nn.NLLLoss()\n",
        "\n",
        "    for epoch in range(1, n_epochs + 1):\n",
        "        loss = train_epoch(train_dataloader, encoder, decoder, encoder_optimizer, decoder_optimizer, criterion)\n",
        "        print_loss_total += loss\n",
        "\n",
        "        if epoch % print_every == 0:\n",
        "            print_loss_avg = print_loss_total / print_every\n",
        "            print_loss_total = 0\n",
        "            print('%s (%d %d%%) %.4f' % (timeSince(start, epoch / n_epochs),\n",
        "                                        epoch, epoch / n_epochs * 100, print_loss_avg))"
      ],
      "metadata": {
        "id": "3nw-qhQQwBvF"
      },
      "execution_count": 257,
      "outputs": []
    },
    {
      "cell_type": "code",
      "source": [
        "hidden_size = 128\n",
        "batch_size = 32\n",
        "\n",
        "input_lang, output_lang, train_dataloader = get_dataloader(batch_size)\n",
        "\n",
        "encoder = EncoderRNN(input_lang.n_tokens, hidden_size).to(device)\n",
        "decoder = DecoderRNN(hidden_size, output_lang.n_tokens).to(device)\n",
        "\n",
        "train(train_dataloader, encoder, decoder, 20, print_every=1)"
      ],
      "metadata": {
        "id": "I8-XBAFrW4q0",
        "colab": {
          "base_uri": "https://localhost:8080/"
        },
        "outputId": "bae78d47-24a5-45f9-9dbe-459210c09ce1"
      },
      "execution_count": 258,
      "outputs": [
        {
          "output_type": "stream",
          "name": "stdout",
          "text": [
            "Total de oraciones en dataset: 141543\n",
            "Reducido a: 119626\n",
            "Tamaño vocab spa: 24306\n",
            "Tamaño vocab eng: 12105\n",
            "1m 25s (- 27m 7s) (1 5%) 2.4367\n",
            "2m 49s (- 25m 22s) (2 10%) 1.5278\n",
            "4m 11s (- 23m 47s) (3 15%) 1.2051\n",
            "5m 34s (- 22m 19s) (4 20%) 1.0225\n",
            "6m 56s (- 20m 50s) (5 25%) 0.9012\n",
            "8m 19s (- 19m 26s) (6 30%) 0.8112\n",
            "9m 42s (- 18m 2s) (7 35%) 0.7413\n",
            "11m 5s (- 16m 38s) (8 40%) 0.6864\n",
            "12m 28s (- 15m 14s) (9 45%) 0.6402\n",
            "13m 50s (- 13m 50s) (10 50%) 0.6015\n",
            "15m 13s (- 12m 27s) (11 55%) 0.5698\n",
            "16m 35s (- 11m 3s) (12 60%) 0.5413\n",
            "17m 58s (- 9m 40s) (13 65%) 0.5156\n",
            "19m 20s (- 8m 17s) (14 70%) 0.4955\n",
            "20m 43s (- 6m 54s) (15 75%) 0.4755\n",
            "22m 6s (- 5m 31s) (16 80%) 0.4586\n",
            "23m 28s (- 4m 8s) (17 85%) 0.4433\n",
            "24m 51s (- 2m 45s) (18 90%) 0.4296\n",
            "26m 13s (- 1m 22s) (19 95%) 0.4160\n",
            "27m 36s (- 0m 0s) (20 100%) 0.4042\n"
          ]
        }
      ]
    },
    {
      "cell_type": "markdown",
      "source": [
        "Comente sus resultados. ¿Cómo evoluciona la loss a medida que aumenta el número de epochs?\n",
        "\n",
        "```\n",
        "Se obtuvieron los siguientes resultados:\n",
        "Total de oraciones en dataset: 141543\n",
        "Reducido a: 119626\n",
        "Tamaño vocab spa: 24306\n",
        "Tamaño vocab eng: 12105\n",
        "6m 48s (- 102m 11s) (5 6%) 1.4186\n",
        "13m 30s (- 94m 31s) (10 12%) 0.6961\n",
        "20m 17s (- 87m 56s) (15 18%) 0.5195\n",
        "26m 55s (- 80m 47s) (20 25%) 0.4304\n",
        "33m 32s (- 73m 47s) (25 31%) 0.3746\n",
        "40m 6s (- 66m 51s) (30 37%) 0.3361\n",
        "46m 41s (- 60m 1s) (35 43%) 0.3074\n",
        "53m 15s (- 53m 15s) (40 50%) 0.2850\n",
        "59m 49s (- 46m 31s) (45 56%) 0.2675\n",
        "66m 20s (- 39m 48s) (50 62%) 0.2527\n",
        "72m 52s (- 33m 7s) (55 68%) 0.2410\n",
        "79m 22s (- 26m 27s) (60 75%) 0.2309\n",
        "85m 51s (- 19m 48s) (65 81%) 0.2219\n",
        "\n",
        "La loss conforme pasan las epocas va disminuyendo, en las primeras disminuye rápidamente y a partir de la 7ma epoca se nota que el descenso es\n",
        "considerablemente menor. Esto al observar que desde las épocas siguientes (7 -> 14) disminuye un total de 0.2458, mientras que de la primera a\n",
        "la 7ma disminuye un total de 1.6954, lo cual es considerablemente más.\n",
        "\n",
        "Se probó con 80 épocas llegando hasta la 65, la entrega esta realizada hasta 20 épocas en intervalos de 1 para un mejor ánalisis.\n",
        "```"
      ],
      "metadata": {
        "id": "b7uIQ2QACKM-"
      }
    },
    {
      "cell_type": "markdown",
      "source": [
        "Adapte las siguientes funciones para traducir oraciones con su modelo. Pruebe su traductor con algunas oraciones aleatorias del corpus."
      ],
      "metadata": {
        "id": "UQ2-AA_MiYQ8"
      }
    },
    {
      "cell_type": "code",
      "source": [
        "def translate(encoder, decoder, sentence, input_lang, output_lang):\n",
        "  with torch.no_grad():\n",
        "    input_tensor = sentence2tensor(input_lang, sentence)\n",
        "\n",
        "    encoder_outputs, encoder_hidden = encoder(input_tensor)\n",
        "    decoder_outputs, decoder_hidden, decoder_attn = decoder(encoder_outputs, encoder_hidden)\n",
        "\n",
        "    _, topi = decoder_outputs.topk(1)\n",
        "    decoded_ids = topi.squeeze()\n",
        "\n",
        "    decoded_words = []\n",
        "    for idx in decoded_ids:\n",
        "      if idx.item() == EOS_token:\n",
        "        decoded_words.append('STOP')\n",
        "        break\n",
        "      decoded_words.append(output_lang.index2word[idx.item()])\n",
        "  return decoded_words, decoder_attn\n",
        "\n",
        "def evaluate_randomly(encoder, decoder, dataset, n=10):\n",
        "  for i in range(n):\n",
        "    pair = random.choice(dataset)\n",
        "    print('Input:', pair[0])\n",
        "    print('Traducción:', pair[1])\n",
        "    output_words, _ = translate(encoder, decoder, pair[0], input_lang, output_lang)\n",
        "    output_sentence = ' '.join(output_words)\n",
        "    print('Predicción:', output_sentence)\n",
        "    print('')"
      ],
      "metadata": {
        "id": "Zj4mpUz_9twS",
        "execution": {
          "iopub.status.busy": "2024-06-25T23:17:12.768057Z",
          "iopub.execute_input": "2024-06-25T23:17:12.768324Z",
          "iopub.status.idle": "2024-06-25T23:17:12.777954Z",
          "shell.execute_reply.started": "2024-06-25T23:17:12.768300Z",
          "shell.execute_reply": "2024-06-25T23:17:12.777281Z"
        },
        "trusted": true
      },
      "execution_count": 259,
      "outputs": []
    },
    {
      "cell_type": "code",
      "source": [
        "encoder.eval()\n",
        "decoder.eval()\n",
        "dataset = pairs\n",
        "evaluate_randomly(encoder, decoder, dataset, 10)"
      ],
      "metadata": {
        "colab": {
          "base_uri": "https://localhost:8080/"
        },
        "id": "ajucU8jv9xIy",
        "outputId": "f12375ac-3741-4345-c68c-ca3f24072228",
        "execution": {
          "iopub.status.busy": "2024-06-25T23:48:55.580509Z",
          "iopub.execute_input": "2024-06-25T23:48:55.580892Z",
          "iopub.status.idle": "2024-06-25T23:48:55.651920Z",
          "shell.execute_reply.started": "2024-06-25T23:48:55.580860Z",
          "shell.execute_reply": "2024-06-25T23:48:55.650843Z"
        },
        "trusted": true
      },
      "execution_count": 268,
      "outputs": [
        {
          "output_type": "stream",
          "name": "stdout",
          "text": [
            "Input: no estás escuchando\n",
            "Traducción: you re not listening\n",
            "Predicción: you re not listening to me to scare me STOP\n",
            "\n",
            "Input: están perfectamente\n",
            "Traducción: they re fine\n",
            "Predicción: they re perfectly fine STOP\n",
            "\n",
            "Input: el tratamiento está siendo exitoso\n",
            "Traducción: the treatment is going successfully\n",
            "Predicción: the treatment is as successful successful STOP\n",
            "\n",
            "Input: qué formas necesitamos nosotros guardar ?\n",
            "Traducción: what forms do we need to file ?\n",
            "Predicción: what forms do we need to file ? STOP\n",
            "\n",
            "Input: según la policía nadie murió\n",
            "Traducción: according to police no one died\n",
            "Predicción: according to police no one died STOP\n",
            "\n",
            "Input: cómo le llamas a esto ?\n",
            "Traducción: what do you call this ?\n",
            "Predicción: what s your name to ? STOP\n",
            "\n",
            "Input: yo no fui una buena madre\n",
            "Traducción: i was not a good mother\n",
            "Predicción: i didn t go mother a good mother STOP\n",
            "\n",
            "Input: sabía que lo encontrarías\n",
            "Traducción: i knew you d find it\n",
            "Predicción: i knew you d find it STOP\n",
            "\n",
            "Input: tom no se podía concentrar en su trabajo\n",
            "Traducción: tom couldn t concentrate on his work\n",
            "Predicción: tom couldn t concentrate on his work STOP\n",
            "\n",
            "Input: no te he visto aquí antes\n",
            "Traducción: i haven t seen you in here before\n",
            "Predicción: i haven t seen you here before STOP\n",
            "\n"
          ]
        }
      ]
    },
    {
      "cell_type": "markdown",
      "source": [
        "Comente sus resultados. ¿Qué ocurre con las cuando la traducción predicha es válida pero no igual al ground truth? ¿Qué haría para abordar este problema?\n",
        "\n",
        "```\n",
        "Esto se puede deber al parafraseo, es decir que la frase predicha es similar semanticamente a la groudn thuth pero mediante palabras distintas\n",
        "con significados parecidos, i.e. sinonimos. Asimismo, en un mismo contexto dos palabras pueden ser validas y equivalentes a la misma traducción\n",
        "de una frase, lo que explicaría la diferencia de resultados.\n",
        "\n",
        "También se debe a falta de entrenamiento, por ejemplo en \"el tratamiento está siendo exitoso\" ground truth es \"the treatment is\n",
        "going successfully\" y la predicción es \"the treatment is as successful successful STOP\", que aunque esta muy similar y 'valida' comete\n",
        "errores gramaticales.\n",
        "\n",
        "Para abordar este problema una solución es implementar feeedback/evaluaciones hechas por personas además del entrenamiento mismo del modelo,\n",
        "permitiendo aprender estas variaciones más alla de solo el analisis basado en el algoritmo y en semejanzas en base a contexto estadistico.\n",
        "Además de permitir aprender estas variaciones, también se espera que el modelo será capaz de corregir aquellas fallas gramaticales.\n",
        "```"
      ],
      "metadata": {
        "id": "SySR_0qviYQ9"
      }
    },
    {
      "cell_type": "markdown",
      "source": [
        "### P4. Visualizando Attention (0.5 pt.)\n",
        "\n",
        "Ahora visualizaremos los pesos de atención asignados entre las palabras traducidas. Para esto, les entregamos funciones para visualizar los pesos de atención entregados por su decoder a partir de una oración. Adapte el código al output de su modelo de ser necesario."
      ],
      "metadata": {
        "id": "tZsbBWc3Dgkt"
      }
    },
    {
      "cell_type": "code",
      "source": [
        "import matplotlib.pyplot as plt\n",
        "plt.switch_backend('agg')\n",
        "import matplotlib.ticker as ticker\n",
        "import numpy as np"
      ],
      "metadata": {
        "id": "H3pGxykbEwxD",
        "execution": {
          "iopub.status.busy": "2024-06-26T00:10:32.538676Z",
          "iopub.execute_input": "2024-06-26T00:10:32.539037Z",
          "iopub.status.idle": "2024-06-26T00:10:32.838758Z",
          "shell.execute_reply.started": "2024-06-26T00:10:32.539010Z",
          "shell.execute_reply": "2024-06-26T00:10:32.837734Z"
        },
        "trusted": true
      },
      "execution_count": 291,
      "outputs": []
    },
    {
      "cell_type": "code",
      "source": [
        "%matplotlib inline"
      ],
      "metadata": {
        "execution": {
          "iopub.status.busy": "2024-06-26T00:11:05.013508Z",
          "iopub.execute_input": "2024-06-26T00:11:05.014317Z",
          "iopub.status.idle": "2024-06-26T00:11:05.019829Z",
          "shell.execute_reply.started": "2024-06-26T00:11:05.014274Z",
          "shell.execute_reply": "2024-06-26T00:11:05.018843Z"
        },
        "trusted": true,
        "id": "enylYxmWiYQ_"
      },
      "execution_count": 292,
      "outputs": []
    },
    {
      "cell_type": "code",
      "source": [
        "def plot_attention(input_sentence, output_words, attentions):\n",
        "    fig = plt.figure()\n",
        "    ax = fig.add_subplot(111)\n",
        "    cax = ax.matshow(attentions.cpu().numpy(), cmap='bone')\n",
        "    fig.colorbar(cax)\n",
        "\n",
        "    # Set up axes\n",
        "    ax.set_xticklabels([''] + input_sentence.split(' ') + ['STOP'], rotation=90)\n",
        "    ax.set_yticklabels([''] + output_words)\n",
        "\n",
        "    # Show label at every tick\n",
        "    ax.xaxis.set_major_locator(ticker.MultipleLocator(1))\n",
        "    ax.yaxis.set_major_locator(ticker.MultipleLocator(1))\n",
        "\n",
        "    plt.show()\n",
        "\n",
        "def show_attention(input_sentence):\n",
        "    output_words, attentions = translate(encoder, decoder, input_sentence, input_lang, output_lang)\n",
        "    print('input =', input_sentence)\n",
        "    print('output =', ' '.join(output_words))\n",
        "    plot_attention(input_sentence, output_words, attentions[0, :len(output_words), :])"
      ],
      "metadata": {
        "id": "PEYuC0yvEg5i",
        "execution": {
          "iopub.status.busy": "2024-06-26T07:05:55.099370Z",
          "iopub.execute_input": "2024-06-26T07:05:55.099763Z",
          "iopub.status.idle": "2024-06-26T07:05:55.110218Z",
          "shell.execute_reply.started": "2024-06-26T07:05:55.099734Z",
          "shell.execute_reply": "2024-06-26T07:05:55.109336Z"
        },
        "trusted": true
      },
      "execution_count": 293,
      "outputs": []
    },
    {
      "cell_type": "markdown",
      "source": [
        "Grafique la atención de las siguientes oraciones de ejemplo. Haga lo mismo con al menos tres oraciones más que puedan ser interesantes."
      ],
      "metadata": {
        "id": "x1woXuV4iYQ_"
      }
    },
    {
      "cell_type": "code",
      "source": [
        "## Oraciones de ejemplo\n",
        "\n",
        "show_attention('tom necesita un poco de ayuda')\n",
        "\n",
        "show_attention('el perro corre rápidamente')\n",
        "\n",
        "show_attention('el banco le ofreció un alto interés')\n",
        "\n",
        "show_attention('él toca la flauta el clarinete y el saxofón')"
      ],
      "metadata": {
        "execution": {
          "iopub.status.busy": "2024-06-27T01:36:27.20562Z",
          "iopub.execute_input": "2024-06-27T01:36:27.206601Z",
          "iopub.status.idle": "2024-06-27T01:36:29.1141Z",
          "shell.execute_reply.started": "2024-06-27T01:36:27.206568Z",
          "shell.execute_reply": "2024-06-27T01:36:29.113147Z"
        },
        "trusted": true,
        "outputId": "8d7acd53-7385-4a25-994f-2eaacc1378cc",
        "id": "A9UvaxzvV1U2",
        "colab": {
          "base_uri": "https://localhost:8080/",
          "height": 1000
        }
      },
      "execution_count": 294,
      "outputs": [
        {
          "output_type": "stream",
          "name": "stdout",
          "text": [
            "input = tom necesita un poco de ayuda\n",
            "output = tom needs a little help help STOP\n"
          ]
        },
        {
          "output_type": "stream",
          "name": "stderr",
          "text": [
            "<ipython-input-293-c262c8c7ec7a>:8: UserWarning: FixedFormatter should only be used together with FixedLocator\n",
            "  ax.set_xticklabels([''] + input_sentence.split(' ') + ['STOP'], rotation=90)\n",
            "<ipython-input-293-c262c8c7ec7a>:9: UserWarning: FixedFormatter should only be used together with FixedLocator\n",
            "  ax.set_yticklabels([''] + output_words)\n"
          ]
        },
        {
          "output_type": "display_data",
          "data": {
            "text/plain": [
              "<Figure size 640x480 with 2 Axes>"
            ],
            "image/png": "[encoded data removed]"
          },
          "metadata": {}
        },
        {
          "output_type": "stream",
          "name": "stdout",
          "text": [
            "input = el perro corre rápidamente\n",
            "output = the dog runs quickly quickly STOP\n"
          ]
        },
        {
          "output_type": "display_data",
          "data": {
            "text/plain": [
              "<Figure size 640x480 with 2 Axes>"
            ],
            "image/png": "[encoded data removed]"
          },
          "metadata": {}
        },
        {
          "output_type": "stream",
          "name": "stdout",
          "text": [
            "input = el banco le ofreció un alto interés\n",
            "output = the bank looks kind of a high gift STOP\n"
          ]
        },
        {
          "output_type": "display_data",
          "data": {
            "text/plain": [
              "<Figure size 640x480 with 2 Axes>"
            ],
            "image/png": "[encoded data removed]"
          },
          "metadata": {}
        },
        {
          "output_type": "stream",
          "name": "stdout",
          "text": [
            "input = él toca la flauta el clarinete y el saxofón\n",
            "output = he plays the flute the clarinet and the saxophone STOP\n"
          ]
        },
        {
          "output_type": "display_data",
          "data": {
            "text/plain": [
              "<Figure size 640x480 with 2 Axes>"
            ],
            "image/png": "[encoded data removed]"
          },
          "metadata": {}
        }
      ]
    },
    {
      "cell_type": "code",
      "source": [
        "## Oraciones de ejemplo\n",
        "# Ver si realiza bien una traduccion con diminutivos\n",
        "show_attention('mi gatito es el mejor del mundo')\n",
        "# Ver si utiliza el concepto coffee break\n",
        "show_attention('hicimos un descanso para tomar café')\n",
        "# Ver como trabaja con palabras usadas en chile como guagua\n",
        "show_attention('se le cayó la guagua de los brazos')"
      ],
      "metadata": {
        "execution": {
          "iopub.status.busy": "2024-06-26T00:23:19.644835Z",
          "iopub.execute_input": "2024-06-26T00:23:19.645525Z",
          "iopub.status.idle": "2024-06-26T00:23:20.075431Z",
          "shell.execute_reply.started": "2024-06-26T00:23:19.645492Z",
          "shell.execute_reply": "2024-06-26T00:23:20.074157Z"
        },
        "trusted": true,
        "id": "mGT1XA9DiYRA",
        "colab": {
          "base_uri": "https://localhost:8080/",
          "height": 1000
        },
        "outputId": "d5c0566c-6c0e-4d2b-adc0-50dbf6de391d"
      },
      "execution_count": 295,
      "outputs": [
        {
          "output_type": "stream",
          "name": "stdout",
          "text": [
            "input = mi gatito es el mejor del mundo\n",
            "output = my kitten is the best of the world s STOP\n"
          ]
        },
        {
          "output_type": "stream",
          "name": "stderr",
          "text": [
            "<ipython-input-293-c262c8c7ec7a>:8: UserWarning: FixedFormatter should only be used together with FixedLocator\n",
            "  ax.set_xticklabels([''] + input_sentence.split(' ') + ['STOP'], rotation=90)\n",
            "<ipython-input-293-c262c8c7ec7a>:9: UserWarning: FixedFormatter should only be used together with FixedLocator\n",
            "  ax.set_yticklabels([''] + output_words)\n"
          ]
        },
        {
          "output_type": "display_data",
          "data": {
            "text/plain": [
              "<Figure size 640x480 with 2 Axes>"
            ],
            "image/png": "[encoded data removed]"
          },
          "metadata": {}
        },
        {
          "output_type": "stream",
          "name": "stdout",
          "text": [
            "input = hicimos un descanso para tomar café\n",
            "output = we made a coffee to drink coffee STOP\n"
          ]
        },
        {
          "output_type": "display_data",
          "data": {
            "text/plain": [
              "<Figure size 640x480 with 2 Axes>"
            ],
            "image/png": "[encoded data removed]"
          },
          "metadata": {}
        },
        {
          "output_type": "stream",
          "name": "stdout",
          "text": [
            "input = se le cayó la guagua de los brazos\n",
            "output = the report was given a short of his arms STOP\n"
          ]
        },
        {
          "output_type": "display_data",
          "data": {
            "text/plain": [
              "<Figure size 640x480 with 2 Axes>"
            ],
            "image/png": "[encoded data removed]"
          },
          "metadata": {}
        }
      ]
    },
    {
      "cell_type": "markdown",
      "source": [
        "Comente sus resultados. ¿Eran lo que esperaba?\n",
        "```\n",
        "Al utilizar diminutivos esperabamos que hubiera un fallo al predecir dicha palabra, lo mismo con guagua, pues es\n",
        "mayormente utilizada en países latinoamericanos y su significado varía mucho dependiendo del contexto (en Chile\n",
        "hace referencia a bebé mientras que en otros países a las micros). Obtuvimos que el diminutivo \"gatito\" lo pudo\n",
        "traducir correctamente a kitten, y no a otra palabra o a \"cat\" que sería válido pero no del todo correcto.\n",
        "Por otro lado, vemos que para la traducción usando \"guagua\" el output pierde el significado de la frase original\n",
        "y la traducción es incorrecta.\n",
        "\n",
        "Para el segundo ejemplo nos pareció interesante ver si el traductor emplearía el termino coffee break, esperabamos\n",
        "que no lo utilizará tal y como sucedió. Aún así, su traducción es correcta.\n",
        "```"
      ],
      "metadata": {
        "id": "fiC9Yii4G3qx"
      }
    },
    {
      "cell_type": "markdown",
      "source": [
        "## Parte 2: BERT"
      ],
      "metadata": {
        "id": "Ol82nJ0FnmcP"
      }
    },
    {
      "cell_type": "markdown",
      "source": [
        "Lo primero es instalar las librerías necesarias."
      ],
      "metadata": {
        "id": "W28UEwvGYTbg"
      }
    },
    {
      "cell_type": "code",
      "source": [
        "%%capture\n",
        "!pip install transformers\n",
        "from transformers import BertTokenizer, BertForNextSentencePrediction, BertForMaskedLM, BertForQuestionAnswering\n",
        "import torch"
      ],
      "metadata": {
        "id": "3X4Gbx7wYWDD"
      },
      "execution_count": 272,
      "outputs": []
    },
    {
      "cell_type": "markdown",
      "source": [
        "Para las preguntas que siguen, utilizaremos distintas variantes de BERT disponibles en la librería transformers. [Aquí](https://huggingface.co/transformers/model_doc/bert.html) pueden encontrar toda la documentación necesaria. El modelo pre-entrenado a utilizar es \"bert-base-uncased\" (salvo para question answering)."
      ],
      "metadata": {
        "id": "eIQo-VciYz2V"
      }
    },
    {
      "cell_type": "markdown",
      "source": [
        "BERT es un modelo de lenguaje que fue entrenado exhaustivamente sobre dos tareas: 1) Next sentence prediction. 2) Masked language modeling."
      ],
      "metadata": {
        "id": "E4_WHbz8bXx2"
      }
    },
    {
      "cell_type": "markdown",
      "source": [
        "### **BertForNextSentencePrediction** (0.5 pt.)"
      ],
      "metadata": {
        "id": "QyMb4YZRMYkm"
      }
    },
    {
      "cell_type": "markdown",
      "source": [
        "**Pregunta 1:**  Utilizando el modelo BertForNextSentencePrediction de la librería transformers, muestre cual de las 2 oraciones es **más probable** que sea una continuación de la primera. Para esto defina la función $oracion\\_mas\\_probable$, que recibe el inicio de una frase, las alternativas para continuar esta frase y retorna un string indicando cual de las dos oraciones es más probable.\n",
        "\n",
        "Por ejemplo:\n",
        "\n",
        "Initial: \"The sky is blue.\"\\\n",
        "A: \"This is due to the shorter wavelength of blue light.\"\\\n",
        "B: \"Chile is one of the world's greatest economies.\"\n",
        "\n",
        "Debería retornar \"La oración que continúa más probable es A\", justificándolo con la evaluación de BERT.\n",
        "\n"
      ],
      "metadata": {
        "id": "Yt6CbBtyadRb"
      }
    },
    {
      "cell_type": "code",
      "source": [
        "tokenizer = BertTokenizer.from_pretrained('bert-base-uncased')\n",
        "model = BertForNextSentencePrediction.from_pretrained('bert-base-uncased')"
      ],
      "metadata": {
        "id": "IOX0bwser8OM"
      },
      "execution_count": 273,
      "outputs": []
    },
    {
      "cell_type": "code",
      "source": [
        "def oracion_mas_probable(first,sentA,sentB):\n",
        "  #Tu implementacion\n",
        "  encodingA = tokenizer(first, sentA, return_tensors='pt')\n",
        "  encodingB = tokenizer(first, sentB, return_tensors='pt')\n",
        "  outputA = model(**encodingA, labels=torch.LongTensor([1]))\n",
        "  outputB = model(**encodingB, labels=torch.LongTensor([1]))\n",
        "  logitsA = outputA.logits\n",
        "  logitsB = outputB.logits\n",
        "\n",
        "  # Obtenemos las probs de logits\n",
        "  probA = torch.softmax(logitsA, dim=1)[0][0].item()\n",
        "  probB = torch.softmax(logitsB, dim=1)[0][0].item()\n",
        "\n",
        "  # Comparar probs\n",
        "  if probA > probB:\n",
        "    sentence = sentA\n",
        "  else:\n",
        "    sentence = sentB\n",
        "  print(f\"La probabilidad de la oración A es: {probA}\")\n",
        "  print(f\"La probabilidad de la oración B es: {probB}\")\n",
        "  return f\"La oración que continúa más probable es {sentence}\""
      ],
      "metadata": {
        "id": "WoBKxPt-mz-e"
      },
      "execution_count": 274,
      "outputs": []
    },
    {
      "cell_type": "markdown",
      "source": [
        "1.1)\n",
        "Initial: \"My cat is fluffy.\"\\\n",
        "A: \"My dog has a curling tail.\"\\\n",
        "B: \"A song can make or ruin a person’s day if they let it get to them.\""
      ],
      "metadata": {
        "id": "goXIGaief8Bi"
      }
    },
    {
      "cell_type": "code",
      "source": [
        "oracion_mas_probable(\"My cat is fluffy.\", \"My dog has a curling tail.\",  \"A song can make or ruin a person’s day if they let it get to them.\")"
      ],
      "metadata": {
        "id": "jVLccJ9go-lS",
        "colab": {
          "base_uri": "https://localhost:8080/",
          "height": 70
        },
        "outputId": "18dfa5ff-d1c1-48a1-8fe2-e05b1c59ab98"
      },
      "execution_count": 275,
      "outputs": [
        {
          "output_type": "stream",
          "name": "stdout",
          "text": [
            "La probabilidad de la oración A es: 0.9999964237213135\n",
            "La probabilidad de la oración B es: 0.0025219772942364216\n"
          ]
        },
        {
          "output_type": "execute_result",
          "data": {
            "text/plain": [
              "'La oración que continúa más probable es My dog has a curling tail.'"
            ],
            "application/vnd.google.colaboratory.intrinsic+json": {
              "type": "string"
            }
          },
          "metadata": {},
          "execution_count": 275
        }
      ]
    },
    {
      "cell_type": "markdown",
      "source": [
        "1.2)\n",
        "Initial: \"The Big Apple is famous worldwide.\"\\\n",
        "A: \"You can add cinnamon for the perfect combination.\"\\\n",
        "B: \"It is America's largest city.\""
      ],
      "metadata": {
        "id": "mHd7UzXpgCY-"
      }
    },
    {
      "cell_type": "code",
      "source": [
        "oracion_mas_probable(\"The Big Apple is famous worldwide.\", \"You can add cinnamon for the perfect combination.\", \"It is America's largest city.\")"
      ],
      "metadata": {
        "id": "JJIp0wBSo_VR",
        "colab": {
          "base_uri": "https://localhost:8080/",
          "height": 70
        },
        "outputId": "c04af6ec-a1c5-480d-b742-7fb134acd647"
      },
      "execution_count": 276,
      "outputs": [
        {
          "output_type": "stream",
          "name": "stdout",
          "text": [
            "La probabilidad de la oración A es: 0.9999865293502808\n",
            "La probabilidad de la oración B es: 0.9999897480010986\n"
          ]
        },
        {
          "output_type": "execute_result",
          "data": {
            "text/plain": [
              "\"La oración que continúa más probable es It is America's largest city.\""
            ],
            "application/vnd.google.colaboratory.intrinsic+json": {
              "type": "string"
            }
          },
          "metadata": {},
          "execution_count": 276
        }
      ]
    },
    {
      "cell_type": "markdown",
      "source": [
        "1.3)\n",
        "Initial: \"Roses are red.\"\\\n",
        "A: \"Violets are blue.\"\\\n",
        "B: \"Fertilize them regularly for impressive flowers.\""
      ],
      "metadata": {
        "id": "c1Y7oxM7d0jM"
      }
    },
    {
      "cell_type": "code",
      "source": [
        "oracion_mas_probable( \"Roses are red.\", \"Violets are blue.\", \"Fertilize them regularly for impressive flowers.\")"
      ],
      "metadata": {
        "id": "888e-dlHpAEJ",
        "colab": {
          "base_uri": "https://localhost:8080/",
          "height": 70
        },
        "outputId": "cc675324-77d7-462c-a044-025379f3b60c"
      },
      "execution_count": 277,
      "outputs": [
        {
          "output_type": "stream",
          "name": "stdout",
          "text": [
            "La probabilidad de la oración A es: 0.9999957084655762\n",
            "La probabilidad de la oración B es: 0.9999926090240479\n"
          ]
        },
        {
          "output_type": "execute_result",
          "data": {
            "text/plain": [
              "'La oración que continúa más probable es Violets are blue.'"
            ],
            "application/vnd.google.colaboratory.intrinsic+json": {
              "type": "string"
            }
          },
          "metadata": {},
          "execution_count": 277
        }
      ]
    },
    {
      "cell_type": "markdown",
      "source": [
        "1.4)\n",
        "Initial: \"I play videogames the whole day.\"\\\n",
        "A: \"They make me happy.\"\\\n",
        "B: \"They make me rage.\"\\"
      ],
      "metadata": {
        "id": "lgC5BcoDiIWV"
      }
    },
    {
      "cell_type": "code",
      "source": [
        "oracion_mas_probable( \"I play videogames the whole day.\",  \"They make me happy.\", \"They make me rage.\")"
      ],
      "metadata": {
        "id": "VfeRqw4gpBDP",
        "colab": {
          "base_uri": "https://localhost:8080/",
          "height": 70
        },
        "outputId": "15ced6e7-693f-44f1-d516-c7bea6af477e"
      },
      "execution_count": 278,
      "outputs": [
        {
          "output_type": "stream",
          "name": "stdout",
          "text": [
            "La probabilidad de la oración A es: 0.9999908208847046\n",
            "La probabilidad de la oración B es: 0.9999867677688599\n"
          ]
        },
        {
          "output_type": "execute_result",
          "data": {
            "text/plain": [
              "'La oración que continúa más probable es They make me happy.'"
            ],
            "application/vnd.google.colaboratory.intrinsic+json": {
              "type": "string"
            }
          },
          "metadata": {},
          "execution_count": 278
        }
      ]
    },
    {
      "cell_type": "markdown",
      "source": [
        "### **BertForMaskedLM** (0.5 pt.)"
      ],
      "metadata": {
        "id": "o3ArRo_zMdtr"
      }
    },
    {
      "cell_type": "markdown",
      "source": [
        "**Pregunta 2:**  Ahora utilizaremos BertForMaskedLM para **predecir una palabra oculta** en una oración.\\\n",
        "Por ejemplo:\\\n",
        "BERT input: \"I want to _ a new car.\"\\\n",
        "BERT prediction: \"buy\""
      ],
      "metadata": {
        "id": "FCN8XM7qihx1"
      }
    },
    {
      "cell_type": "code",
      "source": [
        "tokenizer = BertTokenizer.from_pretrained('bert-base-uncased')\n",
        "model = BertForMaskedLM.from_pretrained('bert-base-uncased')"
      ],
      "metadata": {
        "id": "QZwFxbJOv_aW"
      },
      "execution_count": 279,
      "outputs": []
    },
    {
      "cell_type": "code",
      "source": [
        "def palabra_mas_probable(sentence):\n",
        "    # Tu implementacion\n",
        "    tokenized_text = tokenizer.tokenize(sentence)\n",
        "    masked_index = tokenized_text.index('[MASK]')\n",
        "    indexed_tokens = tokenizer.convert_tokens_to_ids(tokenized_text)\n",
        "    tokens_tensor = torch.tensor([indexed_tokens])\n",
        "\n",
        "    # predicciones del modelo\n",
        "    with torch.no_grad():\n",
        "        predictions = model(tokens_tensor)\n",
        "\n",
        "    # índice del token más probable en la posición del [MASK]\n",
        "    predicted_index = torch.argmax(predictions.logits[0, masked_index]).item()\n",
        "\n",
        "    # índice en el token correspondiente\n",
        "    predicted_token = tokenizer.convert_ids_to_tokens([predicted_index])[0]\n",
        "\n",
        "    return predicted_token"
      ],
      "metadata": {
        "id": "12rFk5ooifks"
      },
      "execution_count": 280,
      "outputs": []
    },
    {
      "cell_type": "markdown",
      "source": [
        "2.1)\n",
        "BERT input: \"[CLS] I love [MASK] . [SEP]\""
      ],
      "metadata": {
        "id": "gua8HPhfkYOb"
      }
    },
    {
      "cell_type": "code",
      "source": [
        "sent = \"[CLS] I love [MASK] . [SEP]\"\n",
        "palabra_mas_probable(sent)"
      ],
      "metadata": {
        "id": "xKRFJnURk7ut",
        "colab": {
          "base_uri": "https://localhost:8080/",
          "height": 36
        },
        "outputId": "58dfe872-126e-4909-8ce6-59a0bbe521a2"
      },
      "execution_count": 281,
      "outputs": [
        {
          "output_type": "execute_result",
          "data": {
            "text/plain": [
              "'you'"
            ],
            "application/vnd.google.colaboratory.intrinsic+json": {
              "type": "string"
            }
          },
          "metadata": {},
          "execution_count": 281
        }
      ]
    },
    {
      "cell_type": "markdown",
      "source": [
        "2.2)\n",
        "BERT input: \"[CLS] I hear that Karen is very [MASK] . [SEP]\""
      ],
      "metadata": {
        "id": "7npsRd9Nk8hi"
      }
    },
    {
      "cell_type": "code",
      "source": [
        "sent = \"[CLS] I heard that Karen is very [MASK] . [SEP]\"\n",
        "palabra_mas_probable(sent)"
      ],
      "metadata": {
        "id": "EW7CosmKk87e",
        "colab": {
          "base_uri": "https://localhost:8080/",
          "height": 36
        },
        "outputId": "6e23df64-8923-4e10-c60a-e083670eb420"
      },
      "execution_count": 282,
      "outputs": [
        {
          "output_type": "execute_result",
          "data": {
            "text/plain": [
              "'upset'"
            ],
            "application/vnd.google.colaboratory.intrinsic+json": {
              "type": "string"
            }
          },
          "metadata": {},
          "execution_count": 282
        }
      ]
    },
    {
      "cell_type": "markdown",
      "source": [
        "2.3)\n",
        "BERT input: \"[CLS] She had the gift of being able to [MASK] . [SEP]\""
      ],
      "metadata": {
        "id": "3SqzWh8Wk9TD"
      }
    },
    {
      "cell_type": "code",
      "source": [
        "sent = \"[CLS] She had the gift of being able to [MASK] . [SEP]\"\n",
        "palabra_mas_probable(sent)"
      ],
      "metadata": {
        "id": "K6YFd1Xpk9qd",
        "colab": {
          "base_uri": "https://localhost:8080/",
          "height": 36
        },
        "outputId": "98c6e099-ab77-4a08-9da7-dcda6be44169"
      },
      "execution_count": 283,
      "outputs": [
        {
          "output_type": "execute_result",
          "data": {
            "text/plain": [
              "'fly'"
            ],
            "application/vnd.google.colaboratory.intrinsic+json": {
              "type": "string"
            }
          },
          "metadata": {},
          "execution_count": 283
        }
      ]
    },
    {
      "cell_type": "markdown",
      "source": [
        "2.4)\n",
        "BERT input: \"[CLS] It's not often you find a [MASK] on the street. [SEP]\""
      ],
      "metadata": {
        "id": "XoV_5suNk-1X"
      }
    },
    {
      "cell_type": "code",
      "source": [
        "sent = \"[CLS] It's not often you find an [MASK] on the circus . [SEP]\"\n",
        "palabra_mas_probable(sent)"
      ],
      "metadata": {
        "id": "C8ayI5VIk_Hr",
        "colab": {
          "base_uri": "https://localhost:8080/",
          "height": 36
        },
        "outputId": "5e6a8b95-ce3b-42b5-f812-98b14dabfc91"
      },
      "execution_count": 284,
      "outputs": [
        {
          "output_type": "execute_result",
          "data": {
            "text/plain": [
              "'expert'"
            ],
            "application/vnd.google.colaboratory.intrinsic+json": {
              "type": "string"
            }
          },
          "metadata": {},
          "execution_count": 284
        }
      ]
    },
    {
      "cell_type": "markdown",
      "source": [
        "### **BertForQuestionAnswering** (0.5 pt.)"
      ],
      "metadata": {
        "id": "FJFPpgoYMim5"
      }
    },
    {
      "cell_type": "markdown",
      "source": [
        "**Pregunta 3**  Utilizando el modelo BertForQuestionAnswering pre-entrenado con 'bert-large-uncased-whole-word-masking-finetuned-squad', **extraiga la respuesta** a cada una de las siguientes 4 preguntas y su contexto. Recuerde cambiar el tokenizer para que coincida con el modelo."
      ],
      "metadata": {
        "id": "GmCSmftALYbA"
      }
    },
    {
      "cell_type": "code",
      "source": [
        "tokenizer = BertTokenizer.from_pretrained('bert-large-uncased-whole-word-masking-finetuned-squad')\n",
        "model = BertForQuestionAnswering.from_pretrained('bert-large-uncased-whole-word-masking-finetuned-squad')"
      ],
      "metadata": {
        "id": "8UhKkKpyToFf"
      },
      "execution_count": 285,
      "outputs": []
    },
    {
      "cell_type": "code",
      "source": [
        "def entregar_respuesta(qst, cntxt):\n",
        "    # Tokenizamos la pregunta y el contexto\n",
        "    inputs = tokenizer(qst, cntxt, return_tensors='pt', truncation=True, padding=True)\n",
        "\n",
        "    # Obtenemos las puntuaciones de inicio y fin de la respuesta\n",
        "    with torch.no_grad():\n",
        "        outputs = model(**inputs)\n",
        "        start_scores = outputs['start_logits']\n",
        "        end_scores = outputs['end_logits']\n",
        "\n",
        "    # Obtenemos las posiciones con las puntuaciones más altas\n",
        "    start_idx = torch.argmax(start_scores)\n",
        "    end_idx = torch.argmax(end_scores) + 1\n",
        "\n",
        "    # Convertimos los IDs de tokens a palabras\n",
        "    all_tokens = tokenizer.convert_ids_to_tokens(inputs['input_ids'][0])\n",
        "    answer = tokenizer.convert_tokens_to_string(all_tokens[start_idx:end_idx])\n",
        "\n",
        "    return answer"
      ],
      "metadata": {
        "id": "He5m8A0mkGGO"
      },
      "execution_count": 286,
      "outputs": []
    },
    {
      "cell_type": "markdown",
      "source": [
        "3.1)\n",
        "\n",
        "Pregunta: \"When was the Battle of Iquique?\"\n",
        "\n",
        "Contexto: \"The Battle of Iquique was a naval engagement that occurred between a Chilean corvette under the command of Arturo Prat and a Peruvian ironclad under the command of Miguel Grau Seminario on 21 May 1879, during the naval stage of the War of the Pacific, and resulted in a Peruvian victory.\""
      ],
      "metadata": {
        "id": "H7zizotdKVIF"
      }
    },
    {
      "cell_type": "code",
      "source": [
        "q = \"When was the Battle of Iquique?\"\n",
        "c = \"The Battle of Iquique was a naval engagement that occurred between a Chilean corvette under the command of Arturo Prat and a Peruvian ironclad under the command of Miguel Grau Seminario on 21 May 1879, during the naval stage of the War of the Pacific, and resulted in a Peruvian victory.\"\n",
        "entregar_respuesta(q, c)"
      ],
      "metadata": {
        "id": "q_TrDijrKnQH",
        "colab": {
          "base_uri": "https://localhost:8080/",
          "height": 36
        },
        "outputId": "32ab5e90-921a-4311-dc0d-2233e327d3a5"
      },
      "execution_count": 287,
      "outputs": [
        {
          "output_type": "execute_result",
          "data": {
            "text/plain": [
              "'21 may 1879'"
            ],
            "application/vnd.google.colaboratory.intrinsic+json": {
              "type": "string"
            }
          },
          "metadata": {},
          "execution_count": 287
        }
      ]
    },
    {
      "cell_type": "markdown",
      "source": [
        "3.2)\n",
        "\n",
        "Pregunta: \"Who won the Battle of Iquique?\"\n",
        "\n",
        "Contexto: \"The Battle of Iquique was a naval engagement that occurred between a Chilean corvette under the command of Arturo Prat and a Peruvian ironclad under the command of Miguel Grau Seminario on 21 May 1879, during the naval stage of the War of the Pacific, and resulted in a Peruvian victory.\""
      ],
      "metadata": {
        "id": "0au9XCqNB2TY"
      }
    },
    {
      "cell_type": "code",
      "source": [
        "q = \"Who won the Battle of Iquique?\"\n",
        "c = \"The Battle of Iquique was a naval engagement that occurred between a Chilean corvette under the command of Arturo Prat and a Peruvian ironclad under the command of Miguel Grau Seminario on 21 May 1879, during the naval stage of the War of the Pacific, and resulted in a Peruvian victory.\"\n",
        "entregar_respuesta(q, c)"
      ],
      "metadata": {
        "id": "3DlTUMxAB_0n",
        "colab": {
          "base_uri": "https://localhost:8080/",
          "height": 36
        },
        "outputId": "e2fb5b5c-90e1-4d28-b708-22d4eb97353b"
      },
      "execution_count": 288,
      "outputs": [
        {
          "output_type": "execute_result",
          "data": {
            "text/plain": [
              "'peruvian'"
            ],
            "application/vnd.google.colaboratory.intrinsic+json": {
              "type": "string"
            }
          },
          "metadata": {},
          "execution_count": 288
        }
      ]
    },
    {
      "cell_type": "markdown",
      "source": [
        "3.3)\n",
        "\n",
        "Pregunta: \"Who introduced peephole connections to LSTM networks?\"\n",
        "Contexto: \"What I’ve described so far is a pretty normal LSTM. But not all LSTMs are the same as the above. In fact, it seems like almost every paper involving LSTMs uses a slightly different version. The differences are minor, but it’s worth mentioning some of them. One popular LSTM variant, introduced by Gers & Schmidhuber (2000), is adding “peephole connections.” This means that we let the gate layers look at the cell state.\""
      ],
      "metadata": {
        "id": "ryRajxniCKbp"
      }
    },
    {
      "cell_type": "code",
      "source": [
        "q = \"Who introduced peephole connections to LSTM networks?\"\n",
        "c = \"What I’ve described so far is a pretty normal LSTM. But not all LSTMs are the same as the above. In fact, it seems like almost every paper involving LSTMs uses a slightly different version. The differences are minor, but it’s worth mentioning some of them. One popular LSTM variant, introduced by Gers & Schmidhuber (2000), is adding “peephole connections.” This means that we let the gate layers look at the cell state.\"\n",
        "entregar_respuesta(q, c)"
      ],
      "metadata": {
        "id": "S1rT9kgLCKuy",
        "colab": {
          "base_uri": "https://localhost:8080/",
          "height": 36
        },
        "outputId": "33c1cc1f-2bd8-45d1-bb74-60d50108ea71"
      },
      "execution_count": 289,
      "outputs": [
        {
          "output_type": "execute_result",
          "data": {
            "text/plain": [
              "'gers & schmidhuber'"
            ],
            "application/vnd.google.colaboratory.intrinsic+json": {
              "type": "string"
            }
          },
          "metadata": {},
          "execution_count": 289
        }
      ]
    },
    {
      "cell_type": "markdown",
      "source": [
        "3.4)\n",
        "\n",
        "Pregunta: \"When is the cat most active?\"\n",
        "\n",
        "Contexto: \"The cat is similar in anatomy to the other felid species: it has a strong flexible body, quick reflexes, sharp teeth and retractable claws adapted to killing small prey. Its night vision and sense of smell are well developed. Cat communication includes vocalizations like meowing, purring, trilling, hissing, growling and grunting as well as cat-specific body language. It is a solitary hunter but a social species. It can hear sounds too faint or too high in frequency for human ears, such as those made by mice and other small mammals. It is a predator that is most active at dawn and dusk. It secretes and perceives pheromones.\""
      ],
      "metadata": {
        "id": "pqn0vNvKCLAq"
      }
    },
    {
      "cell_type": "code",
      "source": [
        "q = \"When is the cat most active?\"\n",
        "c = \"The cat is similar in anatomy to the other felid species: it has a strong flexible body, quick reflexes, sharp teeth and retractable claws adapted to killing small prey. Its night vision and sense of smell are well developed. Cat communication includes vocalizations like meowing, purring, trilling, hissing, growling and grunting as well as cat-specific body language. It is a solitary hunter but a social species. It can hear sounds too faint or too high in frequency for human ears, such as those made by mice and other small mammals. It is a predator that is most active at dawn and dusk. It secretes and perceives pheromones.\"\n",
        "entregar_respuesta(q, c)"
      ],
      "metadata": {
        "id": "o5n37FwOCLTG",
        "colab": {
          "base_uri": "https://localhost:8080/",
          "height": 36
        },
        "outputId": "ec7eaa1d-91cd-46db-d578-48c125b65017"
      },
      "execution_count": 290,
      "outputs": [
        {
          "output_type": "execute_result",
          "data": {
            "text/plain": [
              "'dawn and dusk'"
            ],
            "application/vnd.google.colaboratory.intrinsic+json": {
              "type": "string"
            }
          },
          "metadata": {},
          "execution_count": 290
        }
      ]
    }
  ]
}